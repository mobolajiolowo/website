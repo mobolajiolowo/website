import pandas as pd

# Read JSON data into a DataFrame
df = pd.read_json('species.json')

# Display the DataFrame
print(df.head(3))
